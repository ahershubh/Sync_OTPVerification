{
 "cells": [
  {
   "cell_type": "markdown",
   "id": "7eb7345f",
   "metadata": {},
   "source": [
    "Hello ,I am Shubhada Subhash Aher .  Task-2 is OTP Verification using Python"
   ]
  },
  {
   "cell_type": "code",
   "execution_count": 2,
   "id": "3f4e3053",
   "metadata": {},
   "outputs": [
    {
     "data": {
      "text/plain": [
       "(221,\n",
       " b'2.0.0 closing connection a4-20020a170902b58400b001ac7ab3e97csm6052914pls.260 - gsmtp')"
      ]
     },
     "execution_count": 2,
     "metadata": {},
     "output_type": "execute_result"
    }
   ],
   "source": [
    "import random\n",
    "import smtplib\n",
    "\n",
    "server=smtplib.SMTP('smtp.gmail.com',587)\n",
    "\n",
    "#adding TLS security\n",
    "\n",
    "server.starttls()\n",
    "\n",
    "#get your app password of gmail ----as directed in the video\n",
    "\n",
    "password='ulareqnangzgraih'\n",
    "server.login('vacchesakshi@gmail.com',password)\n",
    "\n",
    "#generate OTP using random.randint() function\n",
    "\n",
    "otp=''.join([str(random.randint(0,9)) for i in range(4)])\n",
    "msg='Hello, Your OTP is '+str(otp)\n",
    "sender='vacchesakshi@gmail.com'  #write email id of sender\n",
    "receiver='vacche0304' #write email of receiver\n",
    "\n",
    "#sendi\n",
    "server.sendmail('vacchesakshi@gmail.com','vacchesakshi@gmail.com',msg)\n",
    "server.quit()"
   ]
  },
  {
   "cell_type": "code",
   "execution_count": null,
   "id": "1b9fdfd6",
   "metadata": {},
   "outputs": [],
   "source": []
  },
  {
   "cell_type": "markdown",
   "id": "3696cbfe",
   "metadata": {},
   "source": [
    "Thank You!!!"
   ]
  }
 ],
 "metadata": {
  "kernelspec": {
   "display_name": "Python 3 (ipykernel)",
   "language": "python",
   "name": "python3"
  },
  "language_info": {
   "codemirror_mode": {
    "name": "ipython",
    "version": 3
   },
   "file_extension": ".py",
   "mimetype": "text/x-python",
   "name": "python",
   "nbconvert_exporter": "python",
   "pygments_lexer": "ipython3",
   "version": "3.9.13"
  }
 },
 "nbformat": 4,
 "nbformat_minor": 5
}
